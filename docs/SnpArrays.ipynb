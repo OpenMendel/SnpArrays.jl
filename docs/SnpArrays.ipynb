{
 "cells": [
  {
   "cell_type": "markdown",
   "metadata": {},
   "source": [
    "# SnpArrays.jl\n",
    "\n",
    "Data from [*genome-wide association studies (GWAS)*](https://en.wikipedia.org/wiki/Genome-wide_association_study) are often saved as a [**PLINK binary biallelic genotype table**](https://www.cog-genomics.org/plink2/formats#bed) or `.bed` file. To be useful, such files should be accompanied by a `.fam` file, containing metadata on the rows of the table, and a `.bim` file,\n",
    "containing metadata on the columns. The `.fam` and `.bim` files are in tab-separated format.\n",
    "\n",
    "The table contains the observed allelic type at `n` [*single nucleotide polymorphism*](https://en.wikipedia.org/wiki/Single-nucleotide_polymorphism) (SNP) positions for `m` individuals. A SNP corresponds to a nucleotide position on the genome where some degree of variation has been observed in a population, with each individual have one of two possible *alleles* at that position on each of a pair of chromosomes. Three possible genotypes and corresponding coding are\n",
    "\n",
    "| Genotype | Plink/SnpArray |  \n",
    "|:---:|:---:|  \n",
    "| A1,A1 | 0x00 |  \n",
    "| missing | 0x01 |\n",
    "| A1,A2 | 0x02 |  \n",
    "| A2,A2 | 0x03 |  "
   ]
  },
  {
   "cell_type": "markdown",
   "metadata": {},
   "source": [
    "## Installation\n",
    "\n",
    "This package requires Julia v1.4 or later, which can be obtained from\n",
    "<https://julialang.org/downloads/> or by building Julia from the sources in the\n",
    "<https://github.com/JuliaLang/julia> repository.\n",
    "\n",
    "The package can be installed by running the following code:\n",
    "```julia\n",
    "using Pkg\n",
    "pkg\"add SnpArrays\"\n",
    "```\n",
    "For running the examples below, the following are also necessary. \n",
    "```julia\n",
    "pkg\"add BenchmarkTools DelimitedFiles Glob\"\n",
    "pkg\"add https://github.com/OpenMendel/ADMIXTURE.jl\"\n",
    "```\n",
    "\n",
    "For optional use on a CUDA-enabled GPU, the following is also needed. \n",
    "```julia\n",
    "pkg\"add Adapt CUDA\"\n",
    "```"
   ]
  },
  {
   "cell_type": "code",
   "execution_count": null,
   "metadata": {},
   "outputs": [],
   "source": [
    "versioninfo()"
   ]
  },
  {
   "cell_type": "code",
   "execution_count": null,
   "metadata": {},
   "outputs": [],
   "source": [
    "# for use in this tutorial\n",
    "using SnpArrays, OpenADMIXTURE, BenchmarkTools, DelimitedFiles, Glob, Random\n",
    "Sys.islinux() && (using CUDA);"
   ]
  },
  {
   "cell_type": "markdown",
   "metadata": {},
   "source": [
    "## Example data\n",
    "\n",
    "There are two example data sets attached to this package. They are available in the `data` folder of the package."
   ]
  },
  {
   "cell_type": "code",
   "execution_count": null,
   "metadata": {},
   "outputs": [],
   "source": [
    "datapath = normpath(SnpArrays.datadir())"
   ]
  },
  {
   "cell_type": "code",
   "execution_count": null,
   "metadata": {},
   "outputs": [],
   "source": [
    "readdir(glob\"mouse.*\", datapath)"
   ]
  },
  {
   "cell_type": "markdown",
   "metadata": {},
   "source": [
    "Data set `EUR_subset` contains no missing genotypes. It is located at"
   ]
  },
  {
   "cell_type": "code",
   "execution_count": null,
   "metadata": {},
   "outputs": [],
   "source": [
    "readdir(glob\"EUR_subset.*\", datapath)"
   ]
  },
  {
   "cell_type": "markdown",
   "metadata": {},
   "source": [
    "Data from recent studies, which have samples from tens of thousands of individuals at over a million SNP positions, would be in the tens or even hundreds of Gb range."
   ]
  },
  {
   "cell_type": "markdown",
   "metadata": {},
   "source": [
    "## SnpArray\n",
    "\n",
    "`SnpArray` is the fundamental type for dealing with genotype data in Plink bed file. Each row of `SnpArray` is a sample and each column a SNP.\n",
    "\n",
    "### Constructor\n",
    "\n",
    "There are various ways to initialize a SnpArray.\n",
    "\n",
    "#### Intitialize from Plink file set\n",
    "\n",
    "SnpArray can be initialized from the Plink bed file. The corresponding `.fam` needs to be present, which is used to determine the number of individuals."
   ]
  },
  {
   "cell_type": "code",
   "execution_count": null,
   "metadata": {},
   "outputs": [],
   "source": [
    "const mouse = SnpArray(SnpArrays.datadir(\"mouse.bed\"))"
   ]
  },
  {
   "cell_type": "markdown",
   "metadata": {},
   "source": [
    "The virtual size of the GWAS data is 1940 observations at each of 10150 SNP positions."
   ]
  },
  {
   "cell_type": "code",
   "execution_count": null,
   "metadata": {},
   "outputs": [],
   "source": [
    "size(mouse)"
   ]
  },
  {
   "cell_type": "markdown",
   "metadata": {},
   "source": [
    "Because the file is memory-mapped opening the file and accessing the data is fast, even for very large .bed files."
   ]
  },
  {
   "cell_type": "code",
   "execution_count": null,
   "metadata": {},
   "outputs": [],
   "source": [
    "@btime(SnpArray(SnpArrays.datadir(\"mouse.bed\")));"
   ]
  },
  {
   "cell_type": "markdown",
   "metadata": {},
   "source": [
    "By default, the memory-mapped file is read only, changing entries is not allowed."
   ]
  },
  {
   "cell_type": "code",
   "execution_count": null,
   "metadata": {},
   "outputs": [],
   "source": [
    "mouse[1, 1] = 0x00"
   ]
  },
  {
   "cell_type": "markdown",
   "metadata": {},
   "source": [
    "To possibly change genoytpes in a bed file, open with write permission\n",
    "```julia\n",
    "mouse = SnpArray(SnpArrays.datadir(\"mouse.bed\"), \"w\")\n",
    "```"
   ]
  },
  {
   "cell_type": "markdown",
   "metadata": {},
   "source": [
    "#### Initialize from only bed file\n",
    "\n",
    "If only the bed file is present, user is required to supply the number of individuals in the second argument."
   ]
  },
  {
   "cell_type": "code",
   "execution_count": null,
   "metadata": {},
   "outputs": [],
   "source": [
    "SnpArray(SnpArrays.datadir(\"mouse.bed\"), 1940)"
   ]
  },
  {
   "cell_type": "markdown",
   "metadata": {},
   "source": [
    "#### Initialize from compressed Plink files\n",
    "\n",
    "SnpArray can be initialized from Plink files in compressed formats: `gz`, `zlib`, `zz`, `xz`, `zst`, or `bz2`. For a complete list type\n",
    "```julia\n",
    "SnpArrays.ALLOWED_FORMAT\n",
    "```\n",
    "If you want to support a new compressed format, file an issue.\n",
    "\n",
    "Let us first compress the mouse data in gz format. We see gz format takes less than 1/3 storage of original Plink files."
   ]
  },
  {
   "cell_type": "code",
   "execution_count": null,
   "metadata": {},
   "outputs": [],
   "source": [
    "compress_plink(SnpArrays.datadir(\"mouse\"), \"gz\")\n",
    "readdir(glob\"mouse.*.gz\", datapath)"
   ]
  },
  {
   "cell_type": "markdown",
   "metadata": {},
   "source": [
    "To initialize SnpArray from gzipped Plink file, simply used the bed file with name ending with `.bed.gz`:"
   ]
  },
  {
   "cell_type": "code",
   "execution_count": null,
   "metadata": {},
   "outputs": [],
   "source": [
    "# requires corresponding `.fam.gz` file\n",
    "SnpArray(SnpArrays.datadir(\"mouse.bed.gz\"))"
   ]
  },
  {
   "cell_type": "markdown",
   "metadata": {},
   "source": [
    "or"
   ]
  },
  {
   "cell_type": "code",
   "execution_count": null,
   "metadata": {},
   "outputs": [],
   "source": [
    "# does not require corresponding `.fam.gz` file\n",
    "SnpArray(SnpArrays.datadir(\"mouse.bed.gz\"), 1940)"
   ]
  },
  {
   "cell_type": "code",
   "execution_count": null,
   "metadata": {},
   "outputs": [],
   "source": [
    "# clean up\n",
    "rm(SnpArrays.datadir(\"mouse.bed.gz\"), force=true)\n",
    "rm(SnpArrays.datadir(\"mouse.fam.gz\"), force=true)\n",
    "rm(SnpArrays.datadir(\"mouse.bim.gz\"), force=true)"
   ]
  },
  {
   "cell_type": "markdown",
   "metadata": {},
   "source": [
    "#### Initialize and create bed file\n",
    "\n",
    "Initialize 5 rows and 3 columns with all (A1, A1) genotype (0x00) and memory-map to a bed file `tmp.bed`"
   ]
  },
  {
   "cell_type": "code",
   "execution_count": null,
   "metadata": {},
   "outputs": [],
   "source": [
    "tmpbf = SnpArray(\"tmp.bed\", 5, 3)"
   ]
  },
  {
   "cell_type": "markdown",
   "metadata": {},
   "source": [
    "Change entries"
   ]
  },
  {
   "cell_type": "code",
   "execution_count": null,
   "metadata": {},
   "outputs": [],
   "source": [
    "tmpbf[1:2, 1:2] .= 0x03\n",
    "tmpbf"
   ]
  },
  {
   "cell_type": "code",
   "execution_count": null,
   "metadata": {},
   "outputs": [],
   "source": [
    "fill!(tmpbf, 0x02)\n",
    "tmpbf"
   ]
  },
  {
   "cell_type": "code",
   "execution_count": null,
   "metadata": {},
   "outputs": [],
   "source": [
    "# clean up\n",
    "rm(\"tmp.bed\", force=true)"
   ]
  },
  {
   "cell_type": "markdown",
   "metadata": {},
   "source": [
    "Initialize 5 rows and 3 columns with undefined genotypes without memory-mapping to any file"
   ]
  },
  {
   "cell_type": "code",
   "execution_count": null,
   "metadata": {},
   "outputs": [],
   "source": [
    "tmpbf = SnpArray(undef, 5, 3)"
   ]
  },
  {
   "cell_type": "markdown",
   "metadata": {},
   "source": [
    "Create a bed file corresponding to an existing SnpArray and memory-map it."
   ]
  },
  {
   "cell_type": "code",
   "execution_count": null,
   "metadata": {},
   "outputs": [],
   "source": [
    "tmpbf = SnpArray(\"tmp.bed\", tmpbf)"
   ]
  },
  {
   "cell_type": "code",
   "execution_count": null,
   "metadata": {},
   "outputs": [],
   "source": [
    "tmpbf[1, 1] = 0x02\n",
    "tmpbf"
   ]
  },
  {
   "cell_type": "code",
   "execution_count": null,
   "metadata": {},
   "outputs": [],
   "source": [
    "# clean up\n",
    "rm(\"tmp.bed\", force=true)"
   ]
  },
  {
   "cell_type": "markdown",
   "metadata": {},
   "source": [
    "### `convert` and `copyto!`\n",
    "\n",
    "Most common usage of SnpArray is to convert genotypes to numeric values for statistical analysis. Conversion rule depends on genetic models (additive, dominant, or recessive), centering, scaling, or imputation.\n",
    "\n",
    "#### `convert`\n",
    "\n",
    "`convert` function has 4 keyword arguments: `model`, `center`, `scale`, and `impute`.\n",
    "\n",
    "`model` keyword specifies the SNP model for conversion. By default `convert` function translates genotypes according to the *additive* SNP model, which essentially counts the number of **A2** allele (0, 1 or 2) per genotype. Other SNP models are *dominant* and *recessive*, both in terms of the **A2** allele.\n",
    "\n",
    "| Genotype | `SnpArray` | `model=ADDITIVE_MODEL` | `model=DOMINANT_MODEL` | `model=RECESSIVE_MODEL` |    \n",
    "|:---:|:---:|:---:|:---:|:---:|  \n",
    "| A1,A1 | 0x00 | 0 | 0 | 0 |  \n",
    "| missing | 0x01 | NaN | NaN | NaN |\n",
    "| A1,A2 | 0x02 | 1 | 1 | 0 |  \n",
    "| A2,A2 | 0x03 | 2 | 1 | 1 |  \n",
    "\n",
    "`center=true` tells `convert` to center each column by its mean. Default is `false`.\n",
    "\n",
    "`scale=true` tells `convert` to scale each column by its standard deviation. Default is `false`.\n",
    "\n",
    "`impute=true` tells `convert` to impute missing genotypes (0x01) by column mean. Default is `false`."
   ]
  },
  {
   "cell_type": "markdown",
   "metadata": {},
   "source": [
    "Convert whole SnpArray to a Float64 matrix using defaults (`model=ADDITIVE_MODEL`, `center=false`, `scale=false`, `impute=false`)"
   ]
  },
  {
   "cell_type": "code",
   "execution_count": null,
   "metadata": {},
   "outputs": [],
   "source": [
    "convert(Matrix{Float64}, mouse)"
   ]
  },
  {
   "cell_type": "markdown",
   "metadata": {},
   "source": [
    "!!! note  \n",
    "\n",
    "    When `convert` or `copyto!` a slice or subarray of SnpArray, using `view`, `@view` or `views` is necessary for both correctness and efficiency. Without view, it's simply converting the UInt8 coding in original bed file.\n",
    "    \n",
    "\n",
    "Convert a column to Float64 vector using defaults (`model=ADDITIVE_MODEL`, `center=false`, `scale=false`, `impute=false`)."
   ]
  },
  {
   "cell_type": "code",
   "execution_count": null,
   "metadata": {},
   "outputs": [],
   "source": [
    "# convert(Vector{Float64}, view(mouse, :, 1)) # alternative syntax\n",
    "# @views convert(Vector{Float64}, mouse[:, 1]) # alternative syntax\n",
    "convert(Vector{Float64}, @view(mouse[:, 1]))"
   ]
  },
  {
   "cell_type": "markdown",
   "metadata": {},
   "source": [
    "Convert a subarray of SnpArray to Float64 matrix using defaults (`model=ADDITIVE_MODEL`, `center=false`, `scale=false`, `impute=false`)."
   ]
  },
  {
   "cell_type": "code",
   "execution_count": null,
   "metadata": {},
   "outputs": [],
   "source": [
    "convert(Matrix{Float64}, @view(mouse[1:2:10, 1:2:10]))"
   ]
  },
  {
   "cell_type": "markdown",
   "metadata": {},
   "source": [
    "Different SNP models (`ADDITIVE_MODEL` vs `DOMINANT_MODEL` vs `RECESSIVE_MODEL`)"
   ]
  },
  {
   "cell_type": "code",
   "execution_count": null,
   "metadata": {},
   "outputs": [],
   "source": [
    "@views [convert(Vector{Float64}, mouse[:, 1], model=ADDITIVE_MODEL) convert(Vector{Float64}, mouse[:, 1], model=DOMINANT_MODEL) convert(Vector{Float64}, mouse[:, 1], model=RECESSIVE_MODEL)]"
   ]
  },
  {
   "cell_type": "markdown",
   "metadata": {},
   "source": [
    "Center and scale (last column) while `convert`"
   ]
  },
  {
   "cell_type": "code",
   "execution_count": null,
   "metadata": {},
   "outputs": [],
   "source": [
    "convert(Vector{Float64}, @view(mouse[:, end]), center=true, scale=true)"
   ]
  },
  {
   "cell_type": "markdown",
   "metadata": {},
   "source": [
    "Center, scale, and impute (last column) while `convert`"
   ]
  },
  {
   "cell_type": "code",
   "execution_count": null,
   "metadata": {},
   "outputs": [],
   "source": [
    "convert(Vector{Float64}, @view(mouse[:, end]), center=true, scale=true, impute=true)"
   ]
  },
  {
   "cell_type": "markdown",
   "metadata": {},
   "source": [
    "#### `copyto!`\n",
    "\n",
    "`copyto!` is the in-place version of `convert`. It takes the same keyword arguments (`model`, `center`, `scale`, `impute`) as `convert`."
   ]
  },
  {
   "cell_type": "markdown",
   "metadata": {},
   "source": [
    "Copy a column to a Float64 vector using defaults (`model=:additive`, `center=false`, `scale=false`, `impute=false`)."
   ]
  },
  {
   "cell_type": "code",
   "execution_count": null,
   "metadata": {},
   "outputs": [],
   "source": [
    "v = zeros(size(mouse, 1))\n",
    "copyto!(v, @view(mouse[:, 1]))"
   ]
  },
  {
   "cell_type": "code",
   "execution_count": null,
   "metadata": {},
   "outputs": [],
   "source": [
    "@btime(copyto!($v, $@view(mouse[:, 1])));"
   ]
  },
  {
   "cell_type": "markdown",
   "metadata": {},
   "source": [
    "Copy columns using defaults"
   ]
  },
  {
   "cell_type": "code",
   "execution_count": null,
   "metadata": {},
   "outputs": [],
   "source": [
    "v2 = zeros(size(mouse, 1), 2)\n",
    "copyto!(v2, @view(mouse[:, 1:2]))"
   ]
  },
  {
   "cell_type": "code",
   "execution_count": null,
   "metadata": {},
   "outputs": [],
   "source": [
    "# roughly double the cost of copying 1 column\n",
    "@btime(copyto!($v2, $@view(mouse[:, 1:2])));"
   ]
  },
  {
   "cell_type": "markdown",
   "metadata": {},
   "source": [
    "Center and scale"
   ]
  },
  {
   "cell_type": "code",
   "execution_count": null,
   "metadata": {},
   "outputs": [],
   "source": [
    "copyto!(v, @view(mouse[:, 1]), center=true, scale=true)"
   ]
  },
  {
   "cell_type": "code",
   "execution_count": null,
   "metadata": {},
   "outputs": [],
   "source": [
    "# more cost becoz of extra pass for center, scale, and/or impute\n",
    "@btime(copyto!($v, $(@view(mouse[:, 1])), center=true, scale=true));"
   ]
  },
  {
   "cell_type": "markdown",
   "metadata": {},
   "source": [
    "Looping over all columns"
   ]
  },
  {
   "cell_type": "code",
   "execution_count": null,
   "metadata": {},
   "outputs": [],
   "source": [
    "v = Vector{Float64}(undef, size(mouse, 1))\n",
    "function loop_test(v, s)\n",
    "    for j in 1:size(s, 2)\n",
    "        copyto!(v, @view(s[:, j]))\n",
    "    end\n",
    "end\n",
    "@btime(loop_test($v, $mouse))"
   ]
  },
  {
   "cell_type": "markdown",
   "metadata": {},
   "source": [
    "Copy whole SnpArray"
   ]
  },
  {
   "cell_type": "code",
   "execution_count": null,
   "metadata": {},
   "outputs": [],
   "source": [
    "M = similar(mouse, Float64)\n",
    "@btime(copyto!($M, $mouse));"
   ]
  },
  {
   "cell_type": "markdown",
   "metadata": {},
   "source": [
    "#### Impute missing genotypes using ADMIXTURE estimates\n",
    "\n",
    "`convert` and `copyto!` can perform more fine-tuned imputation using the ancestry estimates from the [ADMIXTURE](https://github.com/OpenMendel/ADMIXTURE.jl) software.\n",
    "\n",
    "Step 1: Calculate the ancestry estimate and allele frequencies using ADMIXTURE.jl. Here we assume $K=3$ populations."
   ]
  },
  {
   "cell_type": "code",
   "execution_count": null,
   "metadata": {},
   "outputs": [],
   "source": [
    "# install ADMIXTURE package first \n",
    "using ADMIXTURE\n",
    "if isfile(\"mouse.3.P\") && isfile(\"mouse.3.Q\")\n",
    "    P = readdlm(\"mouse.3.P\", ' ', Float64) \n",
    "    Q = readdlm(\"mouse.3.Q\", ' ', Float64)\n",
    "else\n",
    "    # run ADMIXTURE using 4 threads\n",
    "    P, Q = admixture(SnpArrays.datadir(\"mouse.bed\"), 3, j=4)\n",
    "end;"
   ]
  },
  {
   "cell_type": "markdown",
   "metadata": {},
   "source": [
    "**Step 2**: Impute using ancestry estimates `P` and `Q`. Note `copyto!` and `convert` assumes `P` has dimension `K x S` and `Q` has dimension `K x N` where `K` is number of populations, `S` is number of SNPs, and `N` is number of individuals. So we need to transpose the output of `admixture`."
   ]
  },
  {
   "cell_type": "code",
   "execution_count": null,
   "metadata": {},
   "outputs": [],
   "source": [
    "Pt = P |> transpose |> Matrix\n",
    "Qt = Q |> transpose |> Matrix\n",
    "convert(Matrix{Float64}, mouse, Pt, Qt)"
   ]
  },
  {
   "cell_type": "code",
   "execution_count": null,
   "metadata": {},
   "outputs": [],
   "source": [
    "# takes slightly longer because of calculation involving P and Q\n",
    "M = similar(mouse, Float64)\n",
    "@btime(copyto!($M, $mouse, $Pt, $Qt));"
   ]
  },
  {
   "cell_type": "markdown",
   "metadata": {},
   "source": [
    "### Summaries\n",
    "\n",
    "#### Counts\n",
    "\n",
    "Counts of each the four possible values for each column are returned by `counts`.`"
   ]
  },
  {
   "cell_type": "code",
   "execution_count": null,
   "metadata": {},
   "outputs": [],
   "source": [
    "counts(mouse, dims=1)"
   ]
  },
  {
   "cell_type": "markdown",
   "metadata": {},
   "source": [
    "Column 2 has no missing values (code `0x01`, the second row in the column-counts table).\n",
    "In that SNP position for this sample, 359 indivduals are homozygous allele 1 (`G` according to the `.bim` file), 1004 are heterozygous, and 577 are homozygous allele 2 (`A`).\n",
    "\n",
    "The counts by column and by row are cached in the `SnpArray` object. Accesses after the first are extremely fast."
   ]
  },
  {
   "cell_type": "code",
   "execution_count": null,
   "metadata": {},
   "outputs": [],
   "source": [
    "@btime(counts($mouse, dims=1));"
   ]
  },
  {
   "cell_type": "markdown",
   "metadata": {},
   "source": [
    "#### Minor allele frequencies\n",
    "\n",
    "Minor allele frequencies (MAF) for each SNP."
   ]
  },
  {
   "cell_type": "code",
   "execution_count": null,
   "metadata": {},
   "outputs": [],
   "source": [
    "maf(mouse)"
   ]
  },
  {
   "cell_type": "markdown",
   "metadata": {},
   "source": [
    "Minor allele (`false` means A1 is the minor allele; `true` means A2 is the minor allele) for each SNP."
   ]
  },
  {
   "cell_type": "code",
   "execution_count": null,
   "metadata": {},
   "outputs": [],
   "source": [
    "minorallele(mouse)"
   ]
  },
  {
   "cell_type": "markdown",
   "metadata": {},
   "source": [
    "#### `mean` and `var`\n",
    "\n",
    "The package provides methods for the generics `mean` and `var` from the `Statistics` package."
   ]
  },
  {
   "cell_type": "code",
   "execution_count": null,
   "metadata": {},
   "outputs": [],
   "source": [
    "mean(mouse, dims=1)"
   ]
  },
  {
   "cell_type": "code",
   "execution_count": null,
   "metadata": {},
   "outputs": [],
   "source": [
    "mean(mouse, dims=1, model=DOMINANT_MODEL)"
   ]
  },
  {
   "cell_type": "code",
   "execution_count": null,
   "metadata": {},
   "outputs": [],
   "source": [
    "var(mouse, dims=1)"
   ]
  },
  {
   "cell_type": "markdown",
   "metadata": {},
   "source": [
    "These methods make use of the cached column or row counts and thus are very fast"
   ]
  },
  {
   "cell_type": "code",
   "execution_count": null,
   "metadata": {},
   "outputs": [],
   "source": [
    "@btime(mean($mouse, dims=1));"
   ]
  },
  {
   "cell_type": "markdown",
   "metadata": {},
   "source": [
    "The column-wise or row-wise standard deviations are returned by `std`."
   ]
  },
  {
   "cell_type": "code",
   "execution_count": null,
   "metadata": {},
   "outputs": [],
   "source": [
    "std(mouse, dims=2)"
   ]
  },
  {
   "cell_type": "markdown",
   "metadata": {},
   "source": [
    "#### Missing rate\n",
    "\n",
    "Proportion of missing genotypes"
   ]
  },
  {
   "cell_type": "code",
   "execution_count": null,
   "metadata": {},
   "outputs": [],
   "source": [
    "missingrate(mouse, 1)"
   ]
  },
  {
   "cell_type": "code",
   "execution_count": null,
   "metadata": {},
   "outputs": [],
   "source": [
    "missingrate(mouse, 2)"
   ]
  },
  {
   "cell_type": "markdown",
   "metadata": {},
   "source": [
    "#### Location of the missing values\n",
    "\n",
    "The positions of the missing data are evaluated by"
   ]
  },
  {
   "cell_type": "code",
   "execution_count": null,
   "metadata": {},
   "outputs": [],
   "source": [
    "mp = missingpos(mouse)"
   ]
  },
  {
   "cell_type": "code",
   "execution_count": null,
   "metadata": {},
   "outputs": [],
   "source": [
    "@btime(missingpos($mouse));"
   ]
  },
  {
   "cell_type": "markdown",
   "metadata": {},
   "source": [
    "So, for example, the number of missing data values in each column can be evaluated as"
   ]
  },
  {
   "cell_type": "code",
   "execution_count": null,
   "metadata": {},
   "outputs": [],
   "source": [
    "sum(mp, dims=1)"
   ]
  },
  {
   "cell_type": "markdown",
   "metadata": {},
   "source": [
    "although it is faster, but somewhat more obscure, to use"
   ]
  },
  {
   "cell_type": "code",
   "execution_count": null,
   "metadata": {},
   "outputs": [],
   "source": [
    "view(counts(mouse, dims=1), 2:2, :)"
   ]
  },
  {
   "cell_type": "markdown",
   "metadata": {},
   "source": [
    "### Simulation"
   ]
  },
  {
   "cell_type": "markdown",
   "metadata": {},
   "source": [
    "#### Independent SNPs\n",
    "Given a fixed vector of minor allele frequencies, we can simulate SNP data from a homogenous population with high efficiency."
   ]
  },
  {
   "cell_type": "markdown",
   "metadata": {},
   "source": [
    "As an example, suppose we are interested in simulating $100,000$ SNPs from $500,000$ subjects, without missingness."
   ]
  },
  {
   "cell_type": "code",
   "execution_count": null,
   "metadata": {},
   "outputs": [],
   "source": [
    "M, N = 500_000, 100_000\n",
    "# Exact size of packed SNP data in memory\n",
    "packed_size = round((M * N * sizeof(UInt8) / 4) / (1024^3); digits = 2)\n",
    "# Exact size of SNP data stored as Int\n",
    "unpacked_size = round(M * N * sizeof(Int) / 1024^3; digits = 2);"
   ]
  },
  {
   "cell_type": "markdown",
   "metadata": {},
   "source": [
    "Simulating the data using 64-bit integers would require nearly 373 Gb of memory, well over what is available in the majority of personal computers. However, generating simulated values using the packed representation will only need a little over 12 Gb of memory, which is feasible on many machines. "
   ]
  },
  {
   "cell_type": "markdown",
   "metadata": {},
   "source": [
    "We will randomly sample minor allele frequencies in the interval $(0.01, 0.50)$."
   ]
  },
  {
   "cell_type": "code",
   "execution_count": null,
   "metadata": {},
   "outputs": [],
   "source": [
    "rng = Random.MersenneTwister(2024)\n",
    "MAFs = 0.01 .+ 0.49 .* rand(rng, N)\n",
    "@timev sim = SnpArrays.simulate(rng, M, N, MAFs)"
   ]
  },
  {
   "cell_type": "markdown",
   "metadata": {},
   "source": [
    "Even including compilation time, it only takes a little over 60 seconds on a consumer computer to simulate tens of thousands of SNPs from hundreds of thousands of subjects."
   ]
  },
  {
   "cell_type": "code",
   "execution_count": null,
   "metadata": {},
   "outputs": [],
   "source": [
    "cc = counts(sim; dims = 1)\n",
    "sim_means = dropdims(mean(sim; dims = 1); dims=1)"
   ]
  },
  {
   "cell_type": "code",
   "execution_count": null,
   "metadata": {},
   "outputs": [],
   "source": [
    "sqrt(mean(abs2, (sim_means / 2 - MAFs) ./ MAFs))"
   ]
  },
  {
   "cell_type": "markdown",
   "metadata": {},
   "source": [
    "The RMSE in minor allele frequency estimation is only 0.003, verifying that the parameters we defined can indeed be recovered from the simulated data."
   ]
  },
  {
   "cell_type": "markdown",
   "metadata": {},
   "source": [
    "#### Missing Values"
   ]
  },
  {
   "cell_type": "markdown",
   "metadata": {},
   "source": [
    "We can also simulate missing values easily, using the `simulate_missing!` function to insert missing values into our data."
   ]
  },
  {
   "cell_type": "markdown",
   "metadata": {},
   "source": [
    "First, we need a vector of length `N` defining the missingness proportion or rate at each simulated locus."
   ]
  },
  {
   "cell_type": "code",
   "execution_count": null,
   "metadata": {},
   "outputs": [],
   "source": [
    "missing_rate = rand(rng, N);"
   ]
  },
  {
   "cell_type": "markdown",
   "metadata": {},
   "source": [
    "Then, we can create missing values by:"
   ]
  },
  {
   "cell_type": "code",
   "execution_count": null,
   "metadata": {},
   "outputs": [],
   "source": [
    "@timev sim = SnpArrays.simulate_missing!(rng, sim, missing_rate)"
   ]
  },
  {
   "cell_type": "markdown",
   "metadata": {},
   "source": [
    "Simulating missing values takes about as long as simulating the initial values themselves."
   ]
  },
  {
   "cell_type": "markdown",
   "metadata": {},
   "source": [
    "### Linkage Disequilibrium\n",
    "\n",
    "We can also simulate SNPs under a hypothetical LD structure, assuming that the correlation between adjacent SNPs can be described by an AR-1 process with constant $\\rho$."
   ]
  },
  {
   "cell_type": "markdown",
   "metadata": {},
   "source": [
    "Simulating SNPs under this LD structure takes about four times as long as independent sampling without LD, but this is still incredibly fast compared to other methods."
   ]
  },
  {
   "cell_type": "code",
   "execution_count": null,
   "metadata": {},
   "outputs": [],
   "source": [
    "# Assume a correlation of 0.10 between adjacent SNPs\n",
    "ρ = 0.10\n",
    "@timev sim = SnpArrays.simulate(rng, M, N, MAFs, ρ)"
   ]
  },
  {
   "cell_type": "code",
   "execution_count": null,
   "metadata": {},
   "outputs": [],
   "source": [
    "sim = nothing"
   ]
  },
  {
   "cell_type": "markdown",
   "metadata": {},
   "source": [
    "### Genetic relationship matrix (GRM)"
   ]
  },
  {
   "cell_type": "markdown",
   "metadata": {},
   "source": [
    "#### Homogenous population\n",
    "\n",
    "For homogenous population, `grm` function computes the empirical kinship matrix using either the classical genetic relationship matrix, `grm(A, model=:GRM)`, or the method of moment method, `grm(A, model=:MoM)`, or the robust method, `grm(A, model=:Robust)`. See the section _Kinship Comparison_ of the [manuscript](http://hua-zhou.github.io/media/pdf/Zhou19OpenMendel.pdf) for the formulae and references for these methods. \n",
    "\n",
    "Classical genetic relation matrix"
   ]
  },
  {
   "cell_type": "code",
   "execution_count": null,
   "metadata": {},
   "outputs": [],
   "source": [
    "# grm(mouse, method=:MoM)\n",
    "# grm(mouse, method=:Robust)\n",
    "g = grm(mouse, method=:GRM)"
   ]
  },
  {
   "cell_type": "code",
   "execution_count": null,
   "metadata": {},
   "outputs": [],
   "source": [
    "@btime(grm($mouse, method=:GRM));"
   ]
  },
  {
   "cell_type": "markdown",
   "metadata": {},
   "source": [
    "Using Float32 (single precision) potentially saves memory usage and computation time."
   ]
  },
  {
   "cell_type": "code",
   "execution_count": null,
   "metadata": {},
   "outputs": [],
   "source": [
    "grm(mouse, method=:GRM, t=Float32)"
   ]
  },
  {
   "cell_type": "code",
   "execution_count": null,
   "metadata": {},
   "outputs": [],
   "source": [
    "@btime(grm($mouse, method=:GRM, t=Float32));"
   ]
  },
  {
   "cell_type": "markdown",
   "metadata": {},
   "source": [
    "By default, `grm` exlcudes SNPs with minor allele frequency below 0.01. This can be changed by the keyword argument `minmaf`."
   ]
  },
  {
   "cell_type": "code",
   "execution_count": null,
   "metadata": {},
   "outputs": [],
   "source": [
    "# compute GRM excluding SNPs with MAF≤0.05 \n",
    "grm(mouse, minmaf=0.05)"
   ]
  },
  {
   "cell_type": "markdown",
   "metadata": {},
   "source": [
    "To specify specific SNPs for calculating empirical kinship, use the `cinds` keyword (default is `nothing`). When `cinds` is specified, `minmaf` is ignored."
   ]
  },
  {
   "cell_type": "code",
   "execution_count": null,
   "metadata": {},
   "outputs": [],
   "source": [
    "# GRM using every other SNP\n",
    "grm(mouse, cinds=1:2:size(mouse, 2))"
   ]
  },
  {
   "cell_type": "markdown",
   "metadata": {},
   "source": [
    "#### Inhomogenous/admixed populations\n",
    "\n",
    "For inhomogenous/admixed population, we recommend first estimating the ancestry and pupulation allele frequencies using the ADMIXTURE software. See [ADMIXTURE.jl](https://github.com/OpenMendel/ADMIXTURE.jl) for usage. Then compute the kinship coefficients using the `P` (allele frequencies) and `Q` (ancestry fractions) matrix from the output of ADMIXTURE. This is essentially what the [REAP software](http://faculty.washington.edu/tathornt/software/REAP) does, except our implementation runs much faster than REAP (>50 fold speedup). "
   ]
  },
  {
   "cell_type": "code",
   "execution_count": null,
   "metadata": {},
   "outputs": [],
   "source": [
    "# first read in the P and Q matrix output from ADMIXTURE and transpose them\n",
    "Pt = readdlm(\"mouse.3.P\", ' ', Float64) |> transpose |> Matrix\n",
    "Qt = readdlm(\"mouse.3.Q\", ' ', Float64) |> transpose |> Matrix;"
   ]
  },
  {
   "cell_type": "code",
   "execution_count": null,
   "metadata": {},
   "outputs": [],
   "source": [
    "SnpArrays.grm_admixture(mouse, Pt, Qt)"
   ]
  },
  {
   "cell_type": "code",
   "execution_count": null,
   "metadata": {},
   "outputs": [],
   "source": [
    "# clean up\n",
    "rm(\"mouse.3.P\", force = true)\n",
    "rm(\"mouse.3.Q\", force = true)"
   ]
  },
  {
   "cell_type": "markdown",
   "metadata": {},
   "source": [
    "### Filtering\n",
    "\n",
    "Before GWAS, we often need to filter SNPs and/or samples according to genotyping success rates, minor allele frequencies, and Hardy-Weinberg Equilibrium test. This can be achieved by the `filter` function.\n",
    "\n",
    "```@docs\n",
    "SnpArrays.filter\n",
    "```"
   ]
  },
  {
   "cell_type": "markdown",
   "metadata": {},
   "source": [
    "By default, it outputs row and column index vectors such that sample-wise and SNP-wise genotyping success rate are at least 0.98 and minor allele frequencies are at least 0.01. User can opt to filter according to Hardy-Weinberg test by setting the minumum p-value `min_hwe_pval`."
   ]
  },
  {
   "cell_type": "code",
   "execution_count": null,
   "metadata": {},
   "outputs": [],
   "source": [
    "rowmask, colmask =  SnpArrays.filter(mouse)"
   ]
  },
  {
   "cell_type": "code",
   "execution_count": null,
   "metadata": {},
   "outputs": [],
   "source": [
    "count(rowmask), count(colmask)"
   ]
  },
  {
   "cell_type": "code",
   "execution_count": null,
   "metadata": {},
   "outputs": [],
   "source": [
    "@btime(SnpArrays.filter($mouse, min_success_rate_per_row=0.999, min_success_rate_per_col=0.999));"
   ]
  },
  {
   "cell_type": "markdown",
   "metadata": {},
   "source": [
    "One may use the `rowmask` and `colmask` to filter and save filtering result as Plink files.\n",
    "```julia\n",
    "SnpArrays.filter(SnpArrays.datadir(\"mouse\"), rowmask, colmask)\n",
    "```"
   ]
  },
  {
   "cell_type": "markdown",
   "metadata": {},
   "source": [
    "#### Filter Plink files\n",
    "\n",
    "Filter a set of Plink files according to row indices and column indices. By result, filtered Plink files are saved as `srcname.filtered.bed`, `srcname.filtered.fam`, and `srcname.filtered.bim`, where `srcname` is the source Plink file name. You can also specify destimation file name using keyword `des`."
   ]
  },
  {
   "cell_type": "code",
   "execution_count": null,
   "metadata": {},
   "outputs": [],
   "source": [
    "SnpArrays.filter(SnpArrays.datadir(\"mouse\"), 1:5, 1:5)"
   ]
  },
  {
   "cell_type": "code",
   "execution_count": null,
   "metadata": {},
   "outputs": [],
   "source": [
    "# clean up\n",
    "rm(SnpArrays.datadir(\"mouse.filtered.bed\"), force=true)\n",
    "rm(SnpArrays.datadir(\"mouse.filtered.fam\"), force=true)\n",
    "rm(SnpArrays.datadir(\"mouse.filtered.bim\"), force=true)"
   ]
  },
  {
   "cell_type": "markdown",
   "metadata": {},
   "source": [
    "Filter a set of Plink files according to logical vectors."
   ]
  },
  {
   "cell_type": "code",
   "execution_count": null,
   "metadata": {},
   "outputs": [],
   "source": [
    "SnpArrays.filter(SnpArrays.datadir(\"mouse\"), rowmask, colmask)"
   ]
  },
  {
   "cell_type": "code",
   "execution_count": null,
   "metadata": {},
   "outputs": [],
   "source": [
    "readdir(glob\"mouse.filtered.*\", datapath)"
   ]
  },
  {
   "cell_type": "code",
   "execution_count": null,
   "metadata": {},
   "outputs": [],
   "source": [
    "# clean up\n",
    "rm(SnpArrays.datadir(\"mouse.filtered.bed\"), force=true)\n",
    "rm(SnpArrays.datadir(\"mouse.filtered.fam\"), force=true)\n",
    "rm(SnpArrays.datadir(\"mouse.filtered.bim\"), force=true)"
   ]
  },
  {
   "cell_type": "markdown",
   "metadata": {},
   "source": [
    "### Concatenating `SnpArray`s\n",
    "\n",
    "Concatenation of `SnpArray`s is implemented in `hcat`, `vcat`, and `hvcat` functions. By default, the resulting `.bed` file is saved as a file beginning with `tmp_` in the working directory. You can specify destination using keyword `des`. \n",
    "\n",
    "For concatenation, `SnpArray` arguments do not deal with `.fam` or `.bim` files at all. You can use `SnpData` as the arguments to create those files (see below)."
   ]
  },
  {
   "cell_type": "code",
   "execution_count": null,
   "metadata": {},
   "outputs": [],
   "source": [
    "s = SnpArrays.filter(SnpArrays.datadir(\"mouse\"), 1:2, 1:3)\n",
    "s"
   ]
  },
  {
   "cell_type": "code",
   "execution_count": null,
   "metadata": {},
   "outputs": [],
   "source": [
    "all(s .== [[0x02 0x02 0x02];\n",
    "[0x02 0x02 0x03]])"
   ]
  },
  {
   "cell_type": "markdown",
   "metadata": {},
   "source": [
    "Standard concatenation works just like any other arrays. However, a temporary file is created as a side effect."
   ]
  },
  {
   "cell_type": "code",
   "execution_count": null,
   "metadata": {},
   "outputs": [],
   "source": [
    "[s s s]"
   ]
  },
  {
   "cell_type": "code",
   "execution_count": null,
   "metadata": {},
   "outputs": [],
   "source": [
    "[s; s; s]"
   ]
  },
  {
   "cell_type": "code",
   "execution_count": null,
   "metadata": {},
   "outputs": [],
   "source": [
    "[s s s; s s s]"
   ]
  },
  {
   "cell_type": "code",
   "execution_count": null,
   "metadata": {},
   "outputs": [],
   "source": [
    "readdir(glob\"tmp_*\", \".\")"
   ]
  },
  {
   "cell_type": "markdown",
   "metadata": {},
   "source": [
    "In order to set the destination `.bed` file, you can add the keyword argument `des`."
   ]
  },
  {
   "cell_type": "code",
   "execution_count": null,
   "metadata": {},
   "outputs": [],
   "source": [
    "hcat(s, s, s; des=SnpArrays.datadir(\"mouse.test.hcat\"))"
   ]
  },
  {
   "cell_type": "code",
   "execution_count": null,
   "metadata": {},
   "outputs": [],
   "source": [
    "vcat(s, s, s; des=SnpArrays.datadir(\"mouse.test.vcat\"))"
   ]
  },
  {
   "cell_type": "code",
   "execution_count": null,
   "metadata": {},
   "outputs": [],
   "source": [
    "hvcat((3, 3), s, s, s, s, s, s; des=SnpArrays.datadir(\"mouse.test.hvcat\"))"
   ]
  },
  {
   "cell_type": "code",
   "execution_count": null,
   "metadata": {},
   "outputs": [],
   "source": [
    "# clean up\n",
    "rm(SnpArrays.datadir(\"mouse.filtered.bed\"), force=true)\n",
    "rm(SnpArrays.datadir(\"mouse.filtered.fam\"), force=true)\n",
    "rm(SnpArrays.datadir(\"mouse.filtered.bim\"), force=true)\n",
    "tmplist = readdir(glob\"tmp_*.bed\", \".\")\n",
    "for f in tmplist\n",
    "    rm(f, force=true)\n",
    "end\n",
    "rm(SnpArrays.datadir(\"mouse.test.hcat.bed\"), force=true)\n",
    "rm(SnpArrays.datadir(\"mouse.test.vcat.bed\"), force=true)\n",
    "rm(SnpArrays.datadir(\"mouse.test.hvcat.bed\"), force=true)"
   ]
  },
  {
   "cell_type": "markdown",
   "metadata": {},
   "source": [
    "## Linear Algebra\n",
    "\n",
    "In some applications we want to perform linear algebra using SnpArray directly without expanding it to numeric matrix. This is achieved in three different `struct`s:\n",
    "\n",
    "1. Direct operations on a plink-formatted `SnpArray`: `SnpLinAlg`\n",
    "2. Operations on transformed `BitMatrix`es: `SnpBitMatrix`\n",
    "3. Direct operations on a plink-formatted data on an Nvidia GPU: `CuSnpArray`.\n",
    "\n",
    "`SnpLinAlg` and `SnpBitMatrix` use Chris Elrod's [LoopVectorization.jl](https://github.com/chriselrod/LoopVectorization.jl) internally. It is much faster on machines with AVX support. `CuSnpArray` uses [CUDA.jl](https://juliagpu.gitlab.io/CUDA.jl/) internally.\n",
    "\n",
    "!!! warning \"deprecated SnpBitMatrix\"\n",
    "    `SnpBitMatrix` is now deprecated in favor of `SnpLinAlg`. \n",
    "    `SnpBitMatrix` will be removed on next minor release.\n",
    "    \n",
    "The implementation assumes that the matrix corresponding to SnpArray is the matrix of the A2 allele counts. `SnpLinAlg` and `CuSnpArray` impute any missing genotype with its column mean by default. They can also configured to impute missing genotypes with zero. `SnpBitMatrix` can only impute missing values with zero. \n",
    "\n",
    "### Constructor\n",
    "\n",
    "First let's load a data set without missing genotypes."
   ]
  },
  {
   "cell_type": "code",
   "execution_count": null,
   "metadata": {},
   "outputs": [],
   "source": [
    "const EUR = SnpArray(SnpArrays.datadir(\"EUR_subset.bed\"))"
   ]
  },
  {
   "cell_type": "markdown",
   "metadata": {},
   "source": [
    "To instantiate a SnpLinAlg based on SnpArray,"
   ]
  },
  {
   "cell_type": "code",
   "execution_count": null,
   "metadata": {},
   "outputs": [],
   "source": [
    "const EURsla = SnpLinAlg{Float64}(EUR, model=ADDITIVE_MODEL, center=true, scale=true)\n",
    "const EURsla_ = SnpLinAlg{Float64}(EUR, model=ADDITIVE_MODEL, center=true, scale=true, impute=false)"
   ]
  },
  {
   "cell_type": "markdown",
   "metadata": {},
   "source": [
    "The constructor shares the same keyword arguments as the `convert` or `copyto!` functions. The type parameter, `Float64` in this example, indicates the SnpLinAlg acts like a Float64 matrix.\n",
    "SnpLinAlg directly uses the SnpArray for computation and does not expand into full numeric array. "
   ]
  },
  {
   "cell_type": "code",
   "execution_count": null,
   "metadata": {},
   "outputs": [],
   "source": [
    "Base.summarysize(EUR), Base.summarysize(EURsla)"
   ]
  },
  {
   "cell_type": "markdown",
   "metadata": {},
   "source": [
    "### `mul!`\n",
    "\n",
    "SnpLinAlg act similar to a regular matrix and responds to `size`, `eltype`, SnpLinAlg-vector multiplication, and SnpLinAlg-matrix multiplications. Other linear algebra operations (e.g. `qr()`) should work on a SnpLinAlg, but will be much slower. "
   ]
  },
  {
   "cell_type": "code",
   "execution_count": null,
   "metadata": {},
   "outputs": [],
   "source": [
    "@show size(EURsla)\n",
    "@show eltype(EURsla)\n",
    "@show typeof(EURsla) <: AbstractMatrix;"
   ]
  },
  {
   "cell_type": "markdown",
   "metadata": {},
   "source": [
    "Matrix-vector and matrix-matrix multiplications with SnpLinAlg are mathematically equivalent to the corresponding Float matrix contained from `convert` or `copyto!` a SnpArray."
   ]
  },
  {
   "cell_type": "code",
   "execution_count": null,
   "metadata": {},
   "outputs": [],
   "source": [
    "using LinearAlgebra\n",
    "v1 = randn(size(EUR, 1))\n",
    "v2 = randn(size(EUR, 2))\n",
    "A = convert(Matrix{Float64}, EUR, model=ADDITIVE_MODEL, center=true, scale=true);"
   ]
  },
  {
   "cell_type": "code",
   "execution_count": null,
   "metadata": {},
   "outputs": [],
   "source": [
    "norm(EURsla * v2 - A * v2)"
   ]
  },
  {
   "cell_type": "code",
   "execution_count": null,
   "metadata": {},
   "outputs": [],
   "source": [
    "norm(EURsla' * v1 - A' * v1)"
   ]
  },
  {
   "cell_type": "markdown",
   "metadata": {},
   "source": [
    "### Linear Algebra Performance\n",
    "\n",
    "See Linear Algebra Benchmarks on the left for performance comparison among BLAS, SnpLinAlg, and CuSnpArray (for GPU). In general,\n",
    "+ SnpLinAlg-vector multiplications are at least 2x faster than the corresponding Matrix{Float64}-vector multiplication using BLAS\n",
    "+ CuSnpArray-vector multiplications on the GPU is 50x faster than BLAS, and\n",
    "+ SnpLinAlg-matrix multiplication is competitive with BLAS if the right hand matrix is \"tall and thin\".\n",
    "\n",
    "Note that SnpLinAlg does not allocate additional memory, and can impute missing values with column means. "
   ]
  },
  {
   "cell_type": "markdown",
   "metadata": {},
   "source": [
    "### `copyto!`, `convert`, and `subarrays`\n",
    "\n",
    "`copyto!` and `convert` are also supported on `SnpLinAlg`s, but without the `impute`, `scale`, `center` keyword arguments. The destination array will be scaled/centered if the `SnpLinAlg` was scaled/centered. "
   ]
  },
  {
   "cell_type": "code",
   "execution_count": null,
   "metadata": {},
   "outputs": [],
   "source": [
    "# convert work on SnpLinAlg (and subarrays of it)\n",
    "Atrue = convert(Matrix{Float64}, EUR, center=true, scale=true, impute=true)\n",
    "A = convert(Matrix{Float64}, EURsla)\n",
    "all(Atrue .≈ A)"
   ]
  },
  {
   "cell_type": "code",
   "execution_count": null,
   "metadata": {},
   "outputs": [],
   "source": [
    "# copyto on a subarray\n",
    "v = zeros(size(EUR, 1), 10)\n",
    "copyto!(v, @view(EURsla[:, 1:2:20]))"
   ]
  },
  {
   "cell_type": "code",
   "execution_count": null,
   "metadata": {},
   "outputs": [],
   "source": [
    "all(v .≈ Atrue[:, 1:2:20])"
   ]
  },
  {
   "cell_type": "markdown",
   "metadata": {},
   "source": [
    "### GPU support: CuSnpArray (optional)"
   ]
  },
  {
   "cell_type": "markdown",
   "metadata": {},
   "source": [
    "On machines with Nvidia GPU, matrix-vector multiplications can be performed on it via CuSnpArray. The input vectors should be CuVectors. "
   ]
  },
  {
   "cell_type": "code",
   "execution_count": null,
   "metadata": {},
   "outputs": [],
   "source": [
    "using CUDA, Adapt\n",
    "out1 = randn(size(EUR, 1))\n",
    "out2 = randn(size(EUR, 2))\n",
    "v1 = randn(size(EUR, 1))\n",
    "v2 = randn(size(EUR, 2))\n",
    "v1_d = adapt(CuVector{Float64}, v1) # sends data to GPU\n",
    "v2_d = adapt(CuVector{Float64}, v2)\n",
    "out1_d = adapt(CuVector{Float64}, out1)\n",
    "out2_d = adapt(CuVector{Float64}, out2)\n",
    "\n",
    "const EURcu = CuSnpArray{Float64}(EUR; model=ADDITIVE_MODEL, center=true, scale=true);"
   ]
  },
  {
   "cell_type": "code",
   "execution_count": null,
   "metadata": {},
   "outputs": [],
   "source": [
    "@btime mul!($out1_d, $EURcu, $v2_d);"
   ]
  },
  {
   "cell_type": "code",
   "execution_count": null,
   "metadata": {},
   "outputs": [],
   "source": [
    "@btime mul!($out2_d, transpose($EURcu), $v1_d);"
   ]
  },
  {
   "cell_type": "markdown",
   "metadata": {},
   "source": [
    "The operations are parallelized along the output dimension, hence the GPU was not fully utilized in the first case. With 100-time larger data, 30 to 50-fold speedup were observed for both cases with Nvidia Titan V. See linear algebra page for more information."
   ]
  },
  {
   "cell_type": "markdown",
   "metadata": {},
   "source": [
    "Let's check correctness of the result."
   ]
  },
  {
   "cell_type": "markdown",
   "metadata": {},
   "source": [
    "## SnpData"
   ]
  },
  {
   "cell_type": "markdown",
   "metadata": {},
   "source": [
    "We can create a `SnpData`, which has a `SnpArray` with information on SNP and subject appended.\n",
    "\n",
    "### Constructor"
   ]
  },
  {
   "cell_type": "code",
   "execution_count": null,
   "metadata": {},
   "outputs": [],
   "source": [
    "EUR_data = SnpData(SnpArrays.datadir(\"EUR_subset\"))"
   ]
  },
  {
   "cell_type": "markdown",
   "metadata": {},
   "source": [
    "### Filter\n",
    "\n",
    "We can filter SnpData by functions `f_person` and `f_snp`. `f_person` applies to the field `person_info` and selects persons (rows) for which `f_person` is `true`.`f_snp` applies to the field `snp_info` and selects snps (columns) for which `f_snp` is `true`. The first argument can be either a `SnpData` or an `AbstractString`."
   ]
  },
  {
   "cell_type": "code",
   "execution_count": null,
   "metadata": {},
   "outputs": [],
   "source": [
    "SnpArrays.filter(EUR_data; des=\"tmp.filter.chr.17\", f_snp = x -> x[:chromosome]==\"17\")"
   ]
  },
  {
   "cell_type": "code",
   "execution_count": null,
   "metadata": {},
   "outputs": [],
   "source": [
    "SnpArrays.filter(SnpArrays.datadir(\"EUR_subset\"); des=\"tmp.filter.chr.17\", f_snp = x -> x[:chromosome]==\"17\")"
   ]
  },
  {
   "cell_type": "code",
   "execution_count": null,
   "metadata": {},
   "outputs": [],
   "source": [
    "SnpArrays.filter(EUR_data; des=\"tmp.filter.sex.male\", f_person = x -> x[:sex] == \"1\")"
   ]
  },
  {
   "cell_type": "markdown",
   "metadata": {},
   "source": [
    "Both `f_person` and `f_snp` can be used at the same time."
   ]
  },
  {
   "cell_type": "code",
   "execution_count": null,
   "metadata": {},
   "outputs": [],
   "source": [
    "SnpArrays.filter(EUR_data; des=\"tmp.filter.chr.17.sex.male\", f_person = x -> x[:sex] == \"1\", f_snp = x -> x[:chromosome] == \"17\")"
   ]
  },
  {
   "cell_type": "markdown",
   "metadata": {},
   "source": [
    "### Split\n",
    "\n",
    "We can split `SnpData` by SNP's choromosomes or each person's sex or phenotype using `split_plink`. Again, the first argument can be an `SnpData` or an `AbstractString`."
   ]
  },
  {
   "cell_type": "code",
   "execution_count": null,
   "metadata": {},
   "outputs": [],
   "source": [
    "splitted = SnpArrays.split_plink(SnpArrays.datadir(\"EUR_subset\"), :chromosome; prefix=\"tmp.split.chr.\")"
   ]
  },
  {
   "cell_type": "markdown",
   "metadata": {},
   "source": [
    "Let's take a SnpArray for chromosome 17."
   ]
  },
  {
   "cell_type": "code",
   "execution_count": null,
   "metadata": {},
   "outputs": [],
   "source": [
    "piece = splitted[\"17\"]"
   ]
  },
  {
   "cell_type": "code",
   "execution_count": null,
   "metadata": {},
   "outputs": [],
   "source": [
    "@assert all(piece.snp_info[!, :chromosome].== \"17\")"
   ]
  },
  {
   "cell_type": "code",
   "execution_count": null,
   "metadata": {},
   "outputs": [],
   "source": [
    "splitted_sex = SnpArrays.split_plink(EUR_data, :sex; prefix=\"tmp.split.sex.\")"
   ]
  },
  {
   "cell_type": "markdown",
   "metadata": {},
   "source": [
    "### Concatenation\n",
    "\n",
    "`hcat`, `vcat`, and `hvcat` are also implemented for `SnpData`. All of `.bed`, `.bim`, `.fam` files are created. Simple concatenation expression can be used (with the side effect of creation of temporary plink files). One may also set the desitination using the keyword argument `des`. "
   ]
  },
  {
   "cell_type": "code",
   "execution_count": null,
   "metadata": {},
   "outputs": [],
   "source": [
    "[piece piece]"
   ]
  },
  {
   "cell_type": "code",
   "execution_count": null,
   "metadata": {},
   "outputs": [],
   "source": [
    "[piece; piece]"
   ]
  },
  {
   "cell_type": "code",
   "execution_count": null,
   "metadata": {},
   "outputs": [],
   "source": [
    "[piece piece; piece piece]"
   ]
  },
  {
   "cell_type": "code",
   "execution_count": null,
   "metadata": {},
   "outputs": [],
   "source": [
    "hcat(piece, piece; des=\"tmp.hcat\")"
   ]
  },
  {
   "cell_type": "code",
   "execution_count": null,
   "metadata": {},
   "outputs": [],
   "source": [
    "vcat(piece, piece; des=\"tmp.vcat\")"
   ]
  },
  {
   "cell_type": "code",
   "execution_count": null,
   "metadata": {},
   "outputs": [],
   "source": [
    "hvcat((2,2), piece, piece, piece, piece; des=\"tmp.hvcat\")"
   ]
  },
  {
   "cell_type": "markdown",
   "metadata": {},
   "source": [
    "### Merge\n",
    "\n",
    "We can merge the splitted dictionary back into one SnpData using `merge_plink`."
   ]
  },
  {
   "cell_type": "code",
   "execution_count": null,
   "metadata": {},
   "outputs": [],
   "source": [
    "merged = SnpArrays.merge_plink(\"tmp.merged\", splitted) # write_plink is included here"
   ]
  },
  {
   "cell_type": "markdown",
   "metadata": {},
   "source": [
    "You can also merge the plink formatted files based on their common prefix."
   ]
  },
  {
   "cell_type": "code",
   "execution_count": null,
   "metadata": {},
   "outputs": [],
   "source": [
    "merged_from_splitted_files = merge_plink(\"tmp.split.chr\"; des = \"tmp.merged.2\")"
   ]
  },
  {
   "cell_type": "markdown",
   "metadata": {},
   "source": [
    "### Reorder\n",
    "\n",
    "Order of subjects can be changed using the function `reorder!`."
   ]
  },
  {
   "cell_type": "code",
   "execution_count": null,
   "metadata": {},
   "outputs": [],
   "source": [
    "const mouse_prefix = SnpArrays.datadir(\"mouse\")\n",
    "run(`cp $(mouse_prefix * \".bed\") mouse_reorder.bed`)\n",
    "run(`cp $(mouse_prefix * \".bim\") mouse_reorder.bim`)\n",
    "run(`cp $(mouse_prefix * \".fam\") mouse_reorder.fam`)"
   ]
  },
  {
   "cell_type": "code",
   "execution_count": null,
   "metadata": {},
   "outputs": [],
   "source": [
    "mouse_data = SnpData(mouse_prefix)\n",
    "mouse_toreorder = SnpData(\"mouse_reorder\", \"r+\")\n",
    "m, n = size(mouse_toreorder.snparray)"
   ]
  },
  {
   "cell_type": "markdown",
   "metadata": {},
   "source": [
    "For example, the below randomly permutes subjects."
   ]
  },
  {
   "cell_type": "code",
   "execution_count": null,
   "metadata": {},
   "outputs": [],
   "source": [
    "using Random\n",
    "ind = randperm(m)\n",
    "SnpArrays.reorder!(mouse_toreorder, ind)"
   ]
  },
  {
   "cell_type": "code",
   "execution_count": null,
   "metadata": {},
   "outputs": [],
   "source": [
    "mouse_toreorder"
   ]
  },
  {
   "cell_type": "markdown",
   "metadata": {},
   "source": [
    "This functionality mainly targets Cox regression, where sorting subjects in decreasing order of (censored) survival time results in more efficient implementation."
   ]
  },
  {
   "cell_type": "markdown",
   "metadata": {},
   "source": [
    "## VCF to PLINK\n",
    "\n",
    "SnpArrays.jl includes a function to transform a (gzipped) VCF file to PLINK-formatted files. This function drops multi-allelic variants and variants with missing identifier."
   ]
  },
  {
   "cell_type": "code",
   "execution_count": null,
   "metadata": {},
   "outputs": [],
   "source": [
    "# Download an example VCF file\n",
    "isfile(\"test.08Jun17.d8b.vcf.gz\") || download(\"http://faculty.washington.edu/browning/beagle/test.08Jun17.d8b.vcf.gz\", \n",
    "    joinpath(pwd(), \"test.08Jun17.d8b.vcf.gz\"));"
   ]
  },
  {
   "cell_type": "code",
   "execution_count": null,
   "metadata": {},
   "outputs": [],
   "source": [
    "vcf2plink(\"test.08Jun17.d8b.vcf.gz\", \"test.08Jun17.d8b\")"
   ]
  },
  {
   "cell_type": "code",
   "execution_count": null,
   "metadata": {},
   "outputs": [],
   "source": [
    "# clean up\n",
    "for ft in [\"bim\", \"fam\", \"bed\"]\n",
    "    rm(\"tmp.filter.chr.17.\" * ft, force=true)\n",
    "    rm(\"tmp.filter.sex.male.\" * ft, force=true)\n",
    "    rm(\"tmp.filter.chr.17.sex.male.\" * ft, force=true)\n",
    "    for k in keys(splitted)\n",
    "        rm(\"tmp.split.chr.$(k).\" * ft, force=true)\n",
    "    end\n",
    "    for k in keys(splitted_sex)\n",
    "        rm(\"tmp.split.sex.$(k).\" * ft, force=true)\n",
    "    end\n",
    "    rm(\"tmp.merged.\" * ft, force=true)\n",
    "    rm(\"tmp.merged.2.\" * ft, force=true)\n",
    "    \n",
    "    rm(\"tmp.hcat.\" * ft, force=true)\n",
    "    rm(\"tmp.vcat.\" * ft, force=true)\n",
    "    rm(\"tmp.hvcat.\" * ft, force=true)\n",
    "\n",
    "    tmplist = glob(\"tmp_*\" * ft)\n",
    "    for f in tmplist\n",
    "        rm(f, force=true)\n",
    "    end\n",
    "end\n",
    "tmplist = readdir(glob\"tmp_*.bed\", \".\")\n",
    "for f in tmplist\n",
    "    rm(f, force=true)\n",
    "end\n",
    "rm(\"mouse_reorder.bim\", force=true)\n",
    "rm(\"mouse_reorder.bed\", force=true)\n",
    "rm(\"mouse_reorder.fam\", force=true)\n",
    "rm(\"mouse_reorder.reordered.fam\", force=true)\n",
    "rm(\"test.08Jun17.d8b.vcf.gz\", force=true)\n",
    "rm(\"test.08Jun17.d8b.bed\", force=true)\n",
    "rm(\"test.08Jun17.d8b.bim\", force=true)\n",
    "rm(\"test.08Jun17.d8b.fam\", force=true)"
   ]
  }
 ],
 "metadata": {
  "@webio": {
   "lastCommId": null,
   "lastKernelId": null
  },
  "hide_input": false,
  "kernelspec": {
   "display_name": "Julia 1.10.0",
   "language": "julia",
   "name": "julia-1.10"
  },
  "language_info": {
   "file_extension": ".jl",
   "mimetype": "application/julia",
   "name": "julia",
   "version": "1.10.0"
  },
  "toc": {
   "colors": {
    "hover_highlight": "#DAA520",
    "running_highlight": "#FF0000",
    "selected_highlight": "#FFD700"
   },
   "moveMenuLeft": true,
   "nav_menu": {
    "height": "84px",
    "width": "252px"
   },
   "navigate_menu": true,
   "number_sections": true,
   "sideBar": false,
   "skip_h1_title": true,
   "threshold": 4,
   "toc_cell": false,
   "toc_position": {
    "height": "464.728271484375px",
    "left": "6.929347991943359px",
    "right": "888.7999877929688px",
    "top": "117.5434799194336px",
    "width": "181.03260803222656px"
   },
   "toc_section_display": "block",
   "toc_window_display": true,
   "widenNotebook": false
  }
 },
 "nbformat": 4,
 "nbformat_minor": 2
}
